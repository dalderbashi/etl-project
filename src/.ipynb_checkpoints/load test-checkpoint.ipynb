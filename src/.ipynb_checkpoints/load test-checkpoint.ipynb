{
 "cells": [
  {
   "cell_type": "code",
   "execution_count": 7,
   "metadata": {},
   "outputs": [
    {
     "name": "stdout",
     "output_type": "stream",
     "text": [
      "['illinois_transformed', 'iowa_transformed', 'soybean_transformed', 'crude_oil_transformed']\n"
     ]
    }
   ],
   "source": [
    "import pandas as pd\n",
    "from sqlalchemy import create_engine\n",
    "import datetime as dt\n",
    "\n",
    "connection_string = \"postgres:postgres@localhost:5432/soybeans_trade\"\n",
    "engine = create_engine(f'postgresql://{connection_string}')\n",
    "\n",
    "#Confirm tables\n",
    "print(engine.table_names())\n",
    "\n",
    "\n",
    "\n"
   ]
  },
  {
   "cell_type": "code",
   "execution_count": 8,
   "metadata": {},
   "outputs": [],
   "source": [
    "soybean_file = \"../output/soybean_transformed.csv\"\n",
    "crude_oil_file = \"../output/crude_oil_transformed.csv\"\n",
    "iowa_file = \"../output/iowa_transformed.csv\"\n",
    "illinois_file = \"../output/illinois_transformed.csv\"\n",
    "\n"
   ]
  },
  {
   "cell_type": "code",
   "execution_count": 9,
   "metadata": {},
   "outputs": [
    {
     "data": {
      "text/html": [
       "<div>\n",
       "<style scoped>\n",
       "    .dataframe tbody tr th:only-of-type {\n",
       "        vertical-align: middle;\n",
       "    }\n",
       "\n",
       "    .dataframe tbody tr th {\n",
       "        vertical-align: top;\n",
       "    }\n",
       "\n",
       "    .dataframe thead th {\n",
       "        text-align: right;\n",
       "    }\n",
       "</style>\n",
       "<table border=\"1\" class=\"dataframe\">\n",
       "  <thead>\n",
       "    <tr style=\"text-align: right;\">\n",
       "      <th></th>\n",
       "      <th>Date</th>\n",
       "      <th>Illinois_Precip</th>\n",
       "      <th>Illinois_Temp</th>\n",
       "    </tr>\n",
       "  </thead>\n",
       "  <tbody>\n",
       "    <tr>\n",
       "      <th>0</th>\n",
       "      <td>2014-01-01</td>\n",
       "      <td>0.043396</td>\n",
       "      <td>19.971698</td>\n",
       "    </tr>\n",
       "    <tr>\n",
       "      <th>1</th>\n",
       "      <td>2014-01-02</td>\n",
       "      <td>0.156204</td>\n",
       "      <td>11.796296</td>\n",
       "    </tr>\n",
       "    <tr>\n",
       "      <th>2</th>\n",
       "      <td>2014-01-03</td>\n",
       "      <td>0.009730</td>\n",
       "      <td>1.216216</td>\n",
       "    </tr>\n",
       "    <tr>\n",
       "      <th>3</th>\n",
       "      <td>2014-01-04</td>\n",
       "      <td>0.010769</td>\n",
       "      <td>26.971154</td>\n",
       "    </tr>\n",
       "    <tr>\n",
       "      <th>4</th>\n",
       "      <td>2014-01-05</td>\n",
       "      <td>0.282353</td>\n",
       "      <td>17.254902</td>\n",
       "    </tr>\n",
       "  </tbody>\n",
       "</table>\n",
       "</div>"
      ],
      "text/plain": [
       "         Date  Illinois_Precip  Illinois_Temp\n",
       "0  2014-01-01         0.043396      19.971698\n",
       "1  2014-01-02         0.156204      11.796296\n",
       "2  2014-01-03         0.009730       1.216216\n",
       "3  2014-01-04         0.010769      26.971154\n",
       "4  2014-01-05         0.282353      17.254902"
      ]
     },
     "execution_count": 9,
     "metadata": {},
     "output_type": "execute_result"
    }
   ],
   "source": [
    "#convert csv to data frame and convert column values to float\n",
    "soybean_df = pd.read_csv(soybean_file)\n",
    "crude_oil_df = pd.read_csv(crude_oil_file)\n",
    "iowa_df = pd.read_csv(iowa_file)\n",
    "illinois_df = pd.read_csv(illinois_file)\n",
    "illinois_df.head()"
   ]
  },
  {
   "cell_type": "code",
   "execution_count": 10,
   "metadata": {},
   "outputs": [],
   "source": [
    "soybean_df.to_sql(name='soybean_transformed', con=engine, if_exists='append', index=False)\n",
    "crude_oil_df.to_sql(name='crude_oil_transformed', con=engine, if_exists='append', index=False)\n",
    "iowa_df.to_sql(name='iowa_transformed', con=engine, if_exists='append', index=False)\n",
    "illinois_df.to_sql(name='illinois_transformed', con=engine, if_exists='append', index=False)\n"
   ]
  },
  {
   "cell_type": "code",
   "execution_count": null,
   "metadata": {},
   "outputs": [],
   "source": []
  }
 ],
 "metadata": {
  "kernelspec": {
   "display_name": "Python 3",
   "language": "python",
   "name": "python3"
  },
  "language_info": {
   "codemirror_mode": {
    "name": "ipython",
    "version": 3
   },
   "file_extension": ".py",
   "mimetype": "text/x-python",
   "name": "python",
   "nbconvert_exporter": "python",
   "pygments_lexer": "ipython3",
   "version": "3.7.3"
  }
 },
 "nbformat": 4,
 "nbformat_minor": 2
}
