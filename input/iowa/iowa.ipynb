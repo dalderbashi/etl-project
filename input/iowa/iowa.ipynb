{
 "cells": [
  {
   "cell_type": "markdown",
   "metadata": {},
   "source": [
    "# Homework #13: Extract-Transform-Load\n",
    "Purpose of our ETL is to prepare data sets to answer the question: Is the price of soybeans dependent on global fuel prices or weather in top-producing states of Iowa and Illinois?\n",
    "\n",
    ">**What is import glob?**\n",
    "> An asterisk (*) matches zero or more characters in a segment of a name. For example, dir/*. import glob for name in glob. > > > glob('dir/*'): print name. The pattern matches every pathname (file or directory) in the directory dir, without recursing > > > further into subdirectories."
   ]
  },
  {
   "cell_type": "code",
   "execution_count": 19,
   "metadata": {},
   "outputs": [],
   "source": [
    "import pandas as pd\n",
    "from sqlalchemy import create_engine\n",
    "import datetime as dt\n"
   ]
  },
  {
   "cell_type": "markdown",
   "metadata": {},
   "source": [
    "#### Extract CSVs into DataFrames"
   ]
  },
  {
   "cell_type": "code",
   "execution_count": 35,
   "metadata": {},
   "outputs": [
    {
     "data": {
      "text/plain": [
       "STATION    641580\n",
       "NAME       641580\n",
       "DATE       641580\n",
       "PRCP       626854\n",
       "TOBS       237537\n",
       "dtype: int64"
      ]
     },
     "execution_count": 35,
     "metadata": {},
     "output_type": "execute_result"
    }
   ],
   "source": [
    "import glob\n",
    "import numpy as np\n",
    "iowa_df = pd.concat(map(pd.read_csv, glob.glob(\"./*.csv\")))\n",
    "iowa_df.count()\n",
    "\n",
    "\n"
   ]
  },
  {
   "cell_type": "code",
   "execution_count": 36,
   "metadata": {
    "scrolled": true
   },
   "outputs": [
    {
     "data": {
      "text/html": [
       "<div>\n",
       "<style scoped>\n",
       "    .dataframe tbody tr th:only-of-type {\n",
       "        vertical-align: middle;\n",
       "    }\n",
       "\n",
       "    .dataframe tbody tr th {\n",
       "        vertical-align: top;\n",
       "    }\n",
       "\n",
       "    .dataframe thead th {\n",
       "        text-align: right;\n",
       "    }\n",
       "</style>\n",
       "<table border=\"1\" class=\"dataframe\">\n",
       "  <thead>\n",
       "    <tr style=\"text-align: right;\">\n",
       "      <th></th>\n",
       "      <th>STATION</th>\n",
       "      <th>NAME</th>\n",
       "      <th>DATE</th>\n",
       "      <th>PRCP</th>\n",
       "      <th>TOBS</th>\n",
       "    </tr>\n",
       "  </thead>\n",
       "  <tbody>\n",
       "    <tr>\n",
       "      <th>0</th>\n",
       "      <td>USC00135650</td>\n",
       "      <td>MONTEZUMA 1 W, IA US</td>\n",
       "      <td>1/2/2014</td>\n",
       "      <td>0.08</td>\n",
       "      <td>NaN</td>\n",
       "    </tr>\n",
       "    <tr>\n",
       "      <th>1</th>\n",
       "      <td>USC00135650</td>\n",
       "      <td>MONTEZUMA 1 W, IA US</td>\n",
       "      <td>1/14/2014</td>\n",
       "      <td>0.05</td>\n",
       "      <td>NaN</td>\n",
       "    </tr>\n",
       "    <tr>\n",
       "      <th>2</th>\n",
       "      <td>USC00135650</td>\n",
       "      <td>MONTEZUMA 1 W, IA US</td>\n",
       "      <td>1/21/2014</td>\n",
       "      <td>0.06</td>\n",
       "      <td>NaN</td>\n",
       "    </tr>\n",
       "    <tr>\n",
       "      <th>3</th>\n",
       "      <td>USC00135650</td>\n",
       "      <td>MONTEZUMA 1 W, IA US</td>\n",
       "      <td>2/5/2014</td>\n",
       "      <td>0.22</td>\n",
       "      <td>NaN</td>\n",
       "    </tr>\n",
       "    <tr>\n",
       "      <th>4</th>\n",
       "      <td>USC00135650</td>\n",
       "      <td>MONTEZUMA 1 W, IA US</td>\n",
       "      <td>2/13/2014</td>\n",
       "      <td>0.02</td>\n",
       "      <td>NaN</td>\n",
       "    </tr>\n",
       "  </tbody>\n",
       "</table>\n",
       "</div>"
      ],
      "text/plain": [
       "       STATION                  NAME       DATE  PRCP  TOBS\n",
       "0  USC00135650  MONTEZUMA 1 W, IA US   1/2/2014  0.08   NaN\n",
       "1  USC00135650  MONTEZUMA 1 W, IA US  1/14/2014  0.05   NaN\n",
       "2  USC00135650  MONTEZUMA 1 W, IA US  1/21/2014  0.06   NaN\n",
       "3  USC00135650  MONTEZUMA 1 W, IA US   2/5/2014  0.22   NaN\n",
       "4  USC00135650  MONTEZUMA 1 W, IA US  2/13/2014  0.02   NaN"
      ]
     },
     "execution_count": 36,
     "metadata": {},
     "output_type": "execute_result"
    }
   ],
   "source": [
    "iowa_df.head()"
   ]
  },
  {
   "cell_type": "code",
   "execution_count": 37,
   "metadata": {},
   "outputs": [
    {
     "data": {
      "text/html": [
       "<div>\n",
       "<style scoped>\n",
       "    .dataframe tbody tr th:only-of-type {\n",
       "        vertical-align: middle;\n",
       "    }\n",
       "\n",
       "    .dataframe tbody tr th {\n",
       "        vertical-align: top;\n",
       "    }\n",
       "\n",
       "    .dataframe thead th {\n",
       "        text-align: right;\n",
       "    }\n",
       "</style>\n",
       "<table border=\"1\" class=\"dataframe\">\n",
       "  <thead>\n",
       "    <tr style=\"text-align: right;\">\n",
       "      <th></th>\n",
       "      <th>STATION</th>\n",
       "      <th>NAME</th>\n",
       "      <th>DATE</th>\n",
       "      <th>PRCP</th>\n",
       "      <th>TOBS</th>\n",
       "    </tr>\n",
       "  </thead>\n",
       "  <tbody>\n",
       "    <tr>\n",
       "      <th>92829</th>\n",
       "      <td>USC00130200</td>\n",
       "      <td>AMES 8 WSW, IA US</td>\n",
       "      <td>9/22/2019</td>\n",
       "      <td>0.96</td>\n",
       "      <td>63.0</td>\n",
       "    </tr>\n",
       "    <tr>\n",
       "      <th>92830</th>\n",
       "      <td>USC00130200</td>\n",
       "      <td>AMES 8 WSW, IA US</td>\n",
       "      <td>9/27/2019</td>\n",
       "      <td>0.06</td>\n",
       "      <td>66.0</td>\n",
       "    </tr>\n",
       "    <tr>\n",
       "      <th>92831</th>\n",
       "      <td>USC00130200</td>\n",
       "      <td>AMES 8 WSW, IA US</td>\n",
       "      <td>9/28/2019</td>\n",
       "      <td>0.09</td>\n",
       "      <td>68.0</td>\n",
       "    </tr>\n",
       "    <tr>\n",
       "      <th>92832</th>\n",
       "      <td>USC00130200</td>\n",
       "      <td>AMES 8 WSW, IA US</td>\n",
       "      <td>9/29/2019</td>\n",
       "      <td>0.38</td>\n",
       "      <td>68.0</td>\n",
       "    </tr>\n",
       "    <tr>\n",
       "      <th>92833</th>\n",
       "      <td>USC00130200</td>\n",
       "      <td>AMES 8 WSW, IA US</td>\n",
       "      <td>9/30/2019</td>\n",
       "      <td>0.04</td>\n",
       "      <td>87.0</td>\n",
       "    </tr>\n",
       "  </tbody>\n",
       "</table>\n",
       "</div>"
      ],
      "text/plain": [
       "           STATION               NAME       DATE  PRCP  TOBS\n",
       "92829  USC00130200  AMES 8 WSW, IA US  9/22/2019  0.96  63.0\n",
       "92830  USC00130200  AMES 8 WSW, IA US  9/27/2019  0.06  66.0\n",
       "92831  USC00130200  AMES 8 WSW, IA US  9/28/2019  0.09  68.0\n",
       "92832  USC00130200  AMES 8 WSW, IA US  9/29/2019  0.38  68.0\n",
       "92833  USC00130200  AMES 8 WSW, IA US  9/30/2019  0.04  87.0"
      ]
     },
     "execution_count": 37,
     "metadata": {},
     "output_type": "execute_result"
    }
   ],
   "source": [
    "iowa_df.tail()"
   ]
  },
  {
   "cell_type": "code",
   "execution_count": 38,
   "metadata": {},
   "outputs": [],
   "source": [
    "iowa_df = iowa_df[(~np.isnan(iowa_df.TOBS)) & (~np.isnan(iowa_df.PRCP))]"
   ]
  },
  {
   "cell_type": "code",
   "execution_count": 39,
   "metadata": {},
   "outputs": [
    {
     "name": "stdout",
     "output_type": "stream",
     "text": [
      "235615\n"
     ]
    }
   ],
   "source": [
    "print(len(iowa_df))"
   ]
  },
  {
   "cell_type": "code",
   "execution_count": 40,
   "metadata": {},
   "outputs": [
    {
     "data": {
      "text/html": [
       "<div>\n",
       "<style scoped>\n",
       "    .dataframe tbody tr th:only-of-type {\n",
       "        vertical-align: middle;\n",
       "    }\n",
       "\n",
       "    .dataframe tbody tr th {\n",
       "        vertical-align: top;\n",
       "    }\n",
       "\n",
       "    .dataframe thead th {\n",
       "        text-align: right;\n",
       "    }\n",
       "</style>\n",
       "<table border=\"1\" class=\"dataframe\">\n",
       "  <thead>\n",
       "    <tr style=\"text-align: right;\">\n",
       "      <th></th>\n",
       "      <th>STATION</th>\n",
       "      <th>NAME</th>\n",
       "      <th>DATE</th>\n",
       "      <th>PRCP</th>\n",
       "      <th>TOBS</th>\n",
       "    </tr>\n",
       "  </thead>\n",
       "  <tbody>\n",
       "    <tr>\n",
       "      <th>504</th>\n",
       "      <td>USC00134561</td>\n",
       "      <td>LAKE PARK, IA US</td>\n",
       "      <td>1/1/2014</td>\n",
       "      <td>0.16</td>\n",
       "      <td>-6.0</td>\n",
       "    </tr>\n",
       "    <tr>\n",
       "      <th>505</th>\n",
       "      <td>USC00134561</td>\n",
       "      <td>LAKE PARK, IA US</td>\n",
       "      <td>1/2/2014</td>\n",
       "      <td>0.00</td>\n",
       "      <td>-12.0</td>\n",
       "    </tr>\n",
       "    <tr>\n",
       "      <th>506</th>\n",
       "      <td>USC00134561</td>\n",
       "      <td>LAKE PARK, IA US</td>\n",
       "      <td>1/3/2014</td>\n",
       "      <td>0.00</td>\n",
       "      <td>7.0</td>\n",
       "    </tr>\n",
       "    <tr>\n",
       "      <th>507</th>\n",
       "      <td>USC00134561</td>\n",
       "      <td>LAKE PARK, IA US</td>\n",
       "      <td>1/4/2014</td>\n",
       "      <td>0.00</td>\n",
       "      <td>8.0</td>\n",
       "    </tr>\n",
       "    <tr>\n",
       "      <th>508</th>\n",
       "      <td>USC00134561</td>\n",
       "      <td>LAKE PARK, IA US</td>\n",
       "      <td>1/5/2014</td>\n",
       "      <td>0.00</td>\n",
       "      <td>-10.0</td>\n",
       "    </tr>\n",
       "  </tbody>\n",
       "</table>\n",
       "</div>"
      ],
      "text/plain": [
       "         STATION              NAME      DATE  PRCP  TOBS\n",
       "504  USC00134561  LAKE PARK, IA US  1/1/2014  0.16  -6.0\n",
       "505  USC00134561  LAKE PARK, IA US  1/2/2014  0.00 -12.0\n",
       "506  USC00134561  LAKE PARK, IA US  1/3/2014  0.00   7.0\n",
       "507  USC00134561  LAKE PARK, IA US  1/4/2014  0.00   8.0\n",
       "508  USC00134561  LAKE PARK, IA US  1/5/2014  0.00 -10.0"
      ]
     },
     "execution_count": 40,
     "metadata": {},
     "output_type": "execute_result"
    }
   ],
   "source": [
    "iowa_df.head()"
   ]
  },
  {
   "cell_type": "code",
   "execution_count": 41,
   "metadata": {},
   "outputs": [
    {
     "data": {
      "text/plain": [
       "STATION            object\n",
       "NAME               object\n",
       "DATE       datetime64[ns]\n",
       "PRCP              float64\n",
       "TOBS              float64\n",
       "dtype: object"
      ]
     },
     "execution_count": 41,
     "metadata": {},
     "output_type": "execute_result"
    }
   ],
   "source": [
    "## Convert \"Date\" from a string to a date-time-group variable\n",
    "iowa_df[\"DATE\"] =  pd.to_datetime(iowa_df[\"DATE\"])\n",
    "iowa_df.dtypes"
   ]
  },
  {
   "cell_type": "code",
   "execution_count": 42,
   "metadata": {},
   "outputs": [
    {
     "data": {
      "text/html": [
       "<div>\n",
       "<style scoped>\n",
       "    .dataframe tbody tr th:only-of-type {\n",
       "        vertical-align: middle;\n",
       "    }\n",
       "\n",
       "    .dataframe tbody tr th {\n",
       "        vertical-align: top;\n",
       "    }\n",
       "\n",
       "    .dataframe thead th {\n",
       "        text-align: right;\n",
       "    }\n",
       "</style>\n",
       "<table border=\"1\" class=\"dataframe\">\n",
       "  <thead>\n",
       "    <tr style=\"text-align: right;\">\n",
       "      <th></th>\n",
       "      <th>STATION</th>\n",
       "      <th>NAME</th>\n",
       "      <th>Date</th>\n",
       "      <th>Iowa_Precip</th>\n",
       "      <th>Iowa_Temp</th>\n",
       "    </tr>\n",
       "  </thead>\n",
       "  <tbody>\n",
       "    <tr>\n",
       "      <th>504</th>\n",
       "      <td>USC00134561</td>\n",
       "      <td>LAKE PARK, IA US</td>\n",
       "      <td>2014-01-01</td>\n",
       "      <td>0.16</td>\n",
       "      <td>-6.0</td>\n",
       "    </tr>\n",
       "    <tr>\n",
       "      <th>505</th>\n",
       "      <td>USC00134561</td>\n",
       "      <td>LAKE PARK, IA US</td>\n",
       "      <td>2014-01-02</td>\n",
       "      <td>0.00</td>\n",
       "      <td>-12.0</td>\n",
       "    </tr>\n",
       "    <tr>\n",
       "      <th>506</th>\n",
       "      <td>USC00134561</td>\n",
       "      <td>LAKE PARK, IA US</td>\n",
       "      <td>2014-01-03</td>\n",
       "      <td>0.00</td>\n",
       "      <td>7.0</td>\n",
       "    </tr>\n",
       "    <tr>\n",
       "      <th>507</th>\n",
       "      <td>USC00134561</td>\n",
       "      <td>LAKE PARK, IA US</td>\n",
       "      <td>2014-01-04</td>\n",
       "      <td>0.00</td>\n",
       "      <td>8.0</td>\n",
       "    </tr>\n",
       "    <tr>\n",
       "      <th>508</th>\n",
       "      <td>USC00134561</td>\n",
       "      <td>LAKE PARK, IA US</td>\n",
       "      <td>2014-01-05</td>\n",
       "      <td>0.00</td>\n",
       "      <td>-10.0</td>\n",
       "    </tr>\n",
       "  </tbody>\n",
       "</table>\n",
       "</div>"
      ],
      "text/plain": [
       "         STATION              NAME       Date  Iowa_Precip  Iowa_Temp\n",
       "504  USC00134561  LAKE PARK, IA US 2014-01-01         0.16       -6.0\n",
       "505  USC00134561  LAKE PARK, IA US 2014-01-02         0.00      -12.0\n",
       "506  USC00134561  LAKE PARK, IA US 2014-01-03         0.00        7.0\n",
       "507  USC00134561  LAKE PARK, IA US 2014-01-04         0.00        8.0\n",
       "508  USC00134561  LAKE PARK, IA US 2014-01-05         0.00      -10.0"
      ]
     },
     "execution_count": 42,
     "metadata": {},
     "output_type": "execute_result"
    }
   ],
   "source": [
    "# Rename the column headers\n",
    "iowa_df = iowa_df.rename(columns={\"DATE\": \"Date\",\n",
    "                                                          \"PRCP\": \"Iowa_Precip\",\n",
    "                                                          \"TOBS\": \"Iowa_Temp\"})\n",
    "iowa_df.head()"
   ]
  },
  {
   "cell_type": "code",
   "execution_count": 43,
   "metadata": {},
   "outputs": [
    {
     "data": {
      "text/html": [
       "<div>\n",
       "<style scoped>\n",
       "    .dataframe tbody tr th:only-of-type {\n",
       "        vertical-align: middle;\n",
       "    }\n",
       "\n",
       "    .dataframe tbody tr th {\n",
       "        vertical-align: top;\n",
       "    }\n",
       "\n",
       "    .dataframe thead th {\n",
       "        text-align: right;\n",
       "    }\n",
       "</style>\n",
       "<table border=\"1\" class=\"dataframe\">\n",
       "  <thead>\n",
       "    <tr style=\"text-align: right;\">\n",
       "      <th></th>\n",
       "      <th>Iowa_Precip</th>\n",
       "      <th>Iowa_Temp</th>\n",
       "    </tr>\n",
       "    <tr>\n",
       "      <th>Date</th>\n",
       "      <th></th>\n",
       "      <th></th>\n",
       "    </tr>\n",
       "  </thead>\n",
       "  <tbody>\n",
       "    <tr>\n",
       "      <th>2014-01-01</th>\n",
       "      <td>0.080442</td>\n",
       "      <td>3.548673</td>\n",
       "    </tr>\n",
       "    <tr>\n",
       "      <th>2014-01-02</th>\n",
       "      <td>0.046486</td>\n",
       "      <td>-1.216216</td>\n",
       "    </tr>\n",
       "    <tr>\n",
       "      <th>2014-01-03</th>\n",
       "      <td>0.000174</td>\n",
       "      <td>2.843478</td>\n",
       "    </tr>\n",
       "    <tr>\n",
       "      <th>2014-01-04</th>\n",
       "      <td>0.003364</td>\n",
       "      <td>23.445455</td>\n",
       "    </tr>\n",
       "    <tr>\n",
       "      <th>2014-01-05</th>\n",
       "      <td>0.015321</td>\n",
       "      <td>-0.541284</td>\n",
       "    </tr>\n",
       "  </tbody>\n",
       "</table>\n",
       "</div>"
      ],
      "text/plain": [
       "            Iowa_Precip  Iowa_Temp\n",
       "Date                              \n",
       "2014-01-01     0.080442   3.548673\n",
       "2014-01-02     0.046486  -1.216216\n",
       "2014-01-03     0.000174   2.843478\n",
       "2014-01-04     0.003364  23.445455\n",
       "2014-01-05     0.015321  -0.541284"
      ]
     },
     "execution_count": 43,
     "metadata": {},
     "output_type": "execute_result"
    }
   ],
   "source": [
    "iowa_transformed = iowa_df.groupby(['Date']).mean()\n",
    "iowa_transformed.head()"
   ]
  },
  {
   "cell_type": "code",
   "execution_count": 44,
   "metadata": {},
   "outputs": [],
   "source": [
    "iowa_transformed.to_csv(\"../../output/iowa_transformed.csv\")\n"
   ]
  },
  {
   "cell_type": "code",
   "execution_count": null,
   "metadata": {},
   "outputs": [],
   "source": [
    "###Create database connection"
   ]
  },
  {
   "cell_type": "code",
   "execution_count": null,
   "metadata": {},
   "outputs": [],
   "source": []
  },
  {
   "cell_type": "code",
   "execution_count": null,
   "metadata": {},
   "outputs": [],
   "source": []
  }
 ],
 "metadata": {
  "kernelspec": {
   "display_name": "Python 3",
   "language": "python",
   "name": "python3"
  },
  "language_info": {
   "codemirror_mode": {
    "name": "ipython",
    "version": 3
   },
   "file_extension": ".py",
   "mimetype": "text/x-python",
   "name": "python",
   "nbconvert_exporter": "python",
   "pygments_lexer": "ipython3",
   "version": "3.7.3"
  }
 },
 "nbformat": 4,
 "nbformat_minor": 2
}
