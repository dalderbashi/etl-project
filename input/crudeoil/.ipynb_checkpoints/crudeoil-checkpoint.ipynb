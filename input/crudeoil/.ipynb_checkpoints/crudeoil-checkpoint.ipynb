{
 "cells": [
  {
   "cell_type": "markdown",
   "metadata": {},
   "source": [
    "## Extract, Transform and Load\n",
    "\n",
    "\n",
    "* Create a `crude_db` database in pgAdmin 4 then create the following two tables within:\n",
    "\n",
    "  * A `crude` table that contains the columns `Date`, `crude_open_price` and `crude_avg_price`.\n",
    "\n",
    "  * Be sure to assign a primary key, as Pandas will not be able to do so.\n",
    "\n",
    "* **Extraction**\n",
    "\n",
    "  * Put each CSV into a pandas DataFrame.\n",
    "\n",
    "* **Transform**\n",
    "\n",
    "  * Copy only the columns needed into a new DataFrame.\n",
    "\n",
    "  * Rename columns to fit the tables created in the database.\n"
   ]
  },
  {
   "cell_type": "code",
   "execution_count": 2,
   "metadata": {},
   "outputs": [],
   "source": [
    "import pandas as pd\n",
    "from sqlalchemy import create_engine\n",
    "import datetime as dt"
   ]
  },
  {
   "cell_type": "markdown",
   "metadata": {},
   "source": [
    "### Extract CSVs into DataFrames"
   ]
  },
  {
   "cell_type": "code",
   "execution_count": 3,
   "metadata": {},
   "outputs": [
    {
     "data": {
      "text/html": [
       "<div>\n",
       "<style scoped>\n",
       "    .dataframe tbody tr th:only-of-type {\n",
       "        vertical-align: middle;\n",
       "    }\n",
       "\n",
       "    .dataframe tbody tr th {\n",
       "        vertical-align: top;\n",
       "    }\n",
       "\n",
       "    .dataframe thead th {\n",
       "        text-align: right;\n",
       "    }\n",
       "</style>\n",
       "<table border=\"1\" class=\"dataframe\">\n",
       "  <thead>\n",
       "    <tr style=\"text-align: right;\">\n",
       "      <th></th>\n",
       "      <th>Date</th>\n",
       "      <th>Price</th>\n",
       "      <th>Open</th>\n",
       "      <th>High</th>\n",
       "      <th>Low</th>\n",
       "      <th>Vol.</th>\n",
       "      <th>Change %</th>\n",
       "    </tr>\n",
       "  </thead>\n",
       "  <tbody>\n",
       "    <tr>\n",
       "      <th>0</th>\n",
       "      <td>14-Oct-19</td>\n",
       "      <td>53.48</td>\n",
       "      <td>54.80</td>\n",
       "      <td>54.81</td>\n",
       "      <td>52.80</td>\n",
       "      <td>-</td>\n",
       "      <td>-2.41%</td>\n",
       "    </tr>\n",
       "    <tr>\n",
       "      <th>1</th>\n",
       "      <td>13-Oct-19</td>\n",
       "      <td>54.80</td>\n",
       "      <td>54.88</td>\n",
       "      <td>54.88</td>\n",
       "      <td>54.70</td>\n",
       "      <td>-</td>\n",
       "      <td>0.18%</td>\n",
       "    </tr>\n",
       "    <tr>\n",
       "      <th>2</th>\n",
       "      <td>11-Oct-19</td>\n",
       "      <td>54.70</td>\n",
       "      <td>53.88</td>\n",
       "      <td>54.93</td>\n",
       "      <td>53.64</td>\n",
       "      <td>741.70K</td>\n",
       "      <td>2.15%</td>\n",
       "    </tr>\n",
       "    <tr>\n",
       "      <th>3</th>\n",
       "      <td>10-Oct-19</td>\n",
       "      <td>53.55</td>\n",
       "      <td>52.69</td>\n",
       "      <td>53.97</td>\n",
       "      <td>51.38</td>\n",
       "      <td>613.94K</td>\n",
       "      <td>1.83%</td>\n",
       "    </tr>\n",
       "    <tr>\n",
       "      <th>4</th>\n",
       "      <td>9-Oct-19</td>\n",
       "      <td>52.59</td>\n",
       "      <td>52.57</td>\n",
       "      <td>53.74</td>\n",
       "      <td>52.31</td>\n",
       "      <td>632.67K</td>\n",
       "      <td>-0.08%</td>\n",
       "    </tr>\n",
       "  </tbody>\n",
       "</table>\n",
       "</div>"
      ],
      "text/plain": [
       "        Date  Price   Open   High    Low     Vol. Change %\n",
       "0  14-Oct-19  53.48  54.80  54.81  52.80        -   -2.41%\n",
       "1  13-Oct-19  54.80  54.88  54.88  54.70        -    0.18%\n",
       "2  11-Oct-19  54.70  53.88  54.93  53.64  741.70K    2.15%\n",
       "3  10-Oct-19  53.55  52.69  53.97  51.38  613.94K    1.83%\n",
       "4   9-Oct-19  52.59  52.57  53.74  52.31  632.67K   -0.08%"
      ]
     },
     "execution_count": 3,
     "metadata": {},
     "output_type": "execute_result"
    }
   ],
   "source": [
    "#rad data file\n",
    "crudeoil_file = \"./Crude Oil WTI Futures Historical Data.csv\"\n",
    "crudeoil_df = pd.read_csv(crudeoil_file)\n",
    "crudeoil_df.head()"
   ]
  },
  {
   "cell_type": "code",
   "execution_count": 4,
   "metadata": {},
   "outputs": [
    {
     "data": {
      "text/plain": [
       "Date         object\n",
       "Price       float64\n",
       "Open        float64\n",
       "High        float64\n",
       "Low         float64\n",
       "Vol.         object\n",
       "Change %     object\n",
       "dtype: object"
      ]
     },
     "execution_count": 4,
     "metadata": {},
     "output_type": "execute_result"
    }
   ],
   "source": [
    "#identifying data types\n",
    "crudeoil_df.dtypes"
   ]
  },
  {
   "cell_type": "markdown",
   "metadata": {},
   "source": [
    "### Transform premise DataFrame"
   ]
  },
  {
   "cell_type": "code",
   "execution_count": 5,
   "metadata": {},
   "outputs": [
    {
     "data": {
      "text/html": [
       "<div>\n",
       "<style scoped>\n",
       "    .dataframe tbody tr th:only-of-type {\n",
       "        vertical-align: middle;\n",
       "    }\n",
       "\n",
       "    .dataframe tbody tr th {\n",
       "        vertical-align: top;\n",
       "    }\n",
       "\n",
       "    .dataframe thead th {\n",
       "        text-align: right;\n",
       "    }\n",
       "</style>\n",
       "<table border=\"1\" class=\"dataframe\">\n",
       "  <thead>\n",
       "    <tr style=\"text-align: right;\">\n",
       "      <th></th>\n",
       "      <th>Date</th>\n",
       "      <th>Price</th>\n",
       "      <th>Open</th>\n",
       "      <th>High</th>\n",
       "      <th>Low</th>\n",
       "      <th>Vol.</th>\n",
       "      <th>Change %</th>\n",
       "      <th>crudeoil_avg_price</th>\n",
       "    </tr>\n",
       "  </thead>\n",
       "  <tbody>\n",
       "    <tr>\n",
       "      <th>0</th>\n",
       "      <td>14-Oct-19</td>\n",
       "      <td>53.48</td>\n",
       "      <td>54.80</td>\n",
       "      <td>54.81</td>\n",
       "      <td>52.80</td>\n",
       "      <td>-</td>\n",
       "      <td>-2.41%</td>\n",
       "      <td>53.805</td>\n",
       "    </tr>\n",
       "    <tr>\n",
       "      <th>1</th>\n",
       "      <td>13-Oct-19</td>\n",
       "      <td>54.80</td>\n",
       "      <td>54.88</td>\n",
       "      <td>54.88</td>\n",
       "      <td>54.70</td>\n",
       "      <td>-</td>\n",
       "      <td>0.18%</td>\n",
       "      <td>54.790</td>\n",
       "    </tr>\n",
       "    <tr>\n",
       "      <th>2</th>\n",
       "      <td>11-Oct-19</td>\n",
       "      <td>54.70</td>\n",
       "      <td>53.88</td>\n",
       "      <td>54.93</td>\n",
       "      <td>53.64</td>\n",
       "      <td>741.70K</td>\n",
       "      <td>2.15%</td>\n",
       "      <td>54.285</td>\n",
       "    </tr>\n",
       "    <tr>\n",
       "      <th>3</th>\n",
       "      <td>10-Oct-19</td>\n",
       "      <td>53.55</td>\n",
       "      <td>52.69</td>\n",
       "      <td>53.97</td>\n",
       "      <td>51.38</td>\n",
       "      <td>613.94K</td>\n",
       "      <td>1.83%</td>\n",
       "      <td>52.675</td>\n",
       "    </tr>\n",
       "    <tr>\n",
       "      <th>4</th>\n",
       "      <td>9-Oct-19</td>\n",
       "      <td>52.59</td>\n",
       "      <td>52.57</td>\n",
       "      <td>53.74</td>\n",
       "      <td>52.31</td>\n",
       "      <td>632.67K</td>\n",
       "      <td>-0.08%</td>\n",
       "      <td>53.025</td>\n",
       "    </tr>\n",
       "  </tbody>\n",
       "</table>\n",
       "</div>"
      ],
      "text/plain": [
       "        Date  Price   Open   High    Low     Vol. Change %  crudeoil_avg_price\n",
       "0  14-Oct-19  53.48  54.80  54.81  52.80        -   -2.41%              53.805\n",
       "1  13-Oct-19  54.80  54.88  54.88  54.70        -    0.18%              54.790\n",
       "2  11-Oct-19  54.70  53.88  54.93  53.64  741.70K    2.15%              54.285\n",
       "3  10-Oct-19  53.55  52.69  53.97  51.38  613.94K    1.83%              52.675\n",
       "4   9-Oct-19  52.59  52.57  53.74  52.31  632.67K   -0.08%              53.025"
      ]
     },
     "execution_count": 5,
     "metadata": {},
     "output_type": "execute_result"
    }
   ],
   "source": [
    "#calculate the average price for the day using high and low prices\n",
    "#add the new values into the column\n",
    "crudeoil_df[\"crudeoil_avg_price\"] = crudeoil_df[['High','Low']].mean(axis=1)\n",
    "crudeoil_df.head()"
   ]
  },
  {
   "cell_type": "code",
   "execution_count": 6,
   "metadata": {},
   "outputs": [
    {
     "data": {
      "text/plain": [
       "0      2019-10-14\n",
       "1      2019-10-13\n",
       "2      2019-10-11\n",
       "3      2019-10-10\n",
       "4      2019-10-09\n",
       "          ...    \n",
       "2531   2010-01-08\n",
       "2532   2010-01-07\n",
       "2533   2010-01-06\n",
       "2534   2010-01-05\n",
       "2535   2010-01-04\n",
       "Name: Date, Length: 2536, dtype: datetime64[ns]"
      ]
     },
     "execution_count": 6,
     "metadata": {},
     "output_type": "execute_result"
    }
   ],
   "source": [
    "#format date column into date type\n",
    "crudeoil_df['Date'] =  pd.to_datetime(crudeoil_df['Date'],format='%d-%b-%y')\n",
    "crudeoil_df['Date']"
   ]
  },
  {
   "cell_type": "code",
   "execution_count": 7,
   "metadata": {},
   "outputs": [
    {
     "data": {
      "text/plain": [
       "Date                  datetime64[ns]\n",
       "Price                        float64\n",
       "Open                         float64\n",
       "High                         float64\n",
       "Low                          float64\n",
       "Vol.                          object\n",
       "Change %                      object\n",
       "crudeoil_avg_price           float64\n",
       "dtype: object"
      ]
     },
     "execution_count": 7,
     "metadata": {},
     "output_type": "execute_result"
    }
   ],
   "source": [
    "crudeoil_df.dtypes"
   ]
  },
  {
   "cell_type": "code",
   "execution_count": 8,
   "metadata": {},
   "outputs": [],
   "source": [
    "# Create a filtered dataframe from specific columns\n",
    "crudeoil_cols = [\"Date\", \"Open\",\"crudeoil_avg_price\"]\n",
    "crudeoil_transformed= crudeoil_df[crudeoil_cols].copy()"
   ]
  },
  {
   "cell_type": "code",
   "execution_count": 9,
   "metadata": {},
   "outputs": [
    {
     "data": {
      "text/html": [
       "<div>\n",
       "<style scoped>\n",
       "    .dataframe tbody tr th:only-of-type {\n",
       "        vertical-align: middle;\n",
       "    }\n",
       "\n",
       "    .dataframe tbody tr th {\n",
       "        vertical-align: top;\n",
       "    }\n",
       "\n",
       "    .dataframe thead th {\n",
       "        text-align: right;\n",
       "    }\n",
       "</style>\n",
       "<table border=\"1\" class=\"dataframe\">\n",
       "  <thead>\n",
       "    <tr style=\"text-align: right;\">\n",
       "      <th></th>\n",
       "      <th>Date</th>\n",
       "      <th>crude_open_price</th>\n",
       "      <th>crudeoil_avg_price</th>\n",
       "    </tr>\n",
       "  </thead>\n",
       "  <tbody>\n",
       "    <tr>\n",
       "      <th>0</th>\n",
       "      <td>2019-10-14</td>\n",
       "      <td>54.80</td>\n",
       "      <td>53.805</td>\n",
       "    </tr>\n",
       "    <tr>\n",
       "      <th>1</th>\n",
       "      <td>2019-10-13</td>\n",
       "      <td>54.88</td>\n",
       "      <td>54.790</td>\n",
       "    </tr>\n",
       "    <tr>\n",
       "      <th>2</th>\n",
       "      <td>2019-10-11</td>\n",
       "      <td>53.88</td>\n",
       "      <td>54.285</td>\n",
       "    </tr>\n",
       "    <tr>\n",
       "      <th>3</th>\n",
       "      <td>2019-10-10</td>\n",
       "      <td>52.69</td>\n",
       "      <td>52.675</td>\n",
       "    </tr>\n",
       "    <tr>\n",
       "      <th>4</th>\n",
       "      <td>2019-10-09</td>\n",
       "      <td>52.57</td>\n",
       "      <td>53.025</td>\n",
       "    </tr>\n",
       "  </tbody>\n",
       "</table>\n",
       "</div>"
      ],
      "text/plain": [
       "        Date  crude_open_price  crudeoil_avg_price\n",
       "0 2019-10-14             54.80              53.805\n",
       "1 2019-10-13             54.88              54.790\n",
       "2 2019-10-11             53.88              54.285\n",
       "3 2019-10-10             52.69              52.675\n",
       "4 2019-10-09             52.57              53.025"
      ]
     },
     "execution_count": 9,
     "metadata": {},
     "output_type": "execute_result"
    }
   ],
   "source": [
    "# Rename the column headers\n",
    "crudeoil_transformed = crudeoil_transformed.rename(columns={\"Open\": \"crude_open_price\"})\n",
    "\n",
    "# Clean the data by dropping duplicates and setting the index\n",
    "# crudeoil_transformed.drop_duplicates(\"id\", inplace=True)\n",
    "#crudeoil_transformed.set_index(\"Date\", inplace=True)\n",
    "\n",
    "crudeoil_transformed.head()"
   ]
  },
  {
   "cell_type": "code",
   "execution_count": 10,
   "metadata": {},
   "outputs": [
    {
     "data": {
      "text/html": [
       "<div>\n",
       "<style scoped>\n",
       "    .dataframe tbody tr th:only-of-type {\n",
       "        vertical-align: middle;\n",
       "    }\n",
       "\n",
       "    .dataframe tbody tr th {\n",
       "        vertical-align: top;\n",
       "    }\n",
       "\n",
       "    .dataframe thead th {\n",
       "        text-align: right;\n",
       "    }\n",
       "</style>\n",
       "<table border=\"1\" class=\"dataframe\">\n",
       "  <thead>\n",
       "    <tr style=\"text-align: right;\">\n",
       "      <th></th>\n",
       "      <th>Date</th>\n",
       "      <th>crude_open_price</th>\n",
       "      <th>crudeoil_avg_price</th>\n",
       "    </tr>\n",
       "  </thead>\n",
       "  <tbody>\n",
       "    <tr>\n",
       "      <th>0</th>\n",
       "      <td>2019-10-14</td>\n",
       "      <td>54.80</td>\n",
       "      <td>53.80</td>\n",
       "    </tr>\n",
       "    <tr>\n",
       "      <th>1</th>\n",
       "      <td>2019-10-13</td>\n",
       "      <td>54.88</td>\n",
       "      <td>54.79</td>\n",
       "    </tr>\n",
       "    <tr>\n",
       "      <th>2</th>\n",
       "      <td>2019-10-11</td>\n",
       "      <td>53.88</td>\n",
       "      <td>54.28</td>\n",
       "    </tr>\n",
       "    <tr>\n",
       "      <th>3</th>\n",
       "      <td>2019-10-10</td>\n",
       "      <td>52.69</td>\n",
       "      <td>52.68</td>\n",
       "    </tr>\n",
       "    <tr>\n",
       "      <th>4</th>\n",
       "      <td>2019-10-09</td>\n",
       "      <td>52.57</td>\n",
       "      <td>53.03</td>\n",
       "    </tr>\n",
       "  </tbody>\n",
       "</table>\n",
       "</div>"
      ],
      "text/plain": [
       "        Date  crude_open_price  crudeoil_avg_price\n",
       "0 2019-10-14             54.80               53.80\n",
       "1 2019-10-13             54.88               54.79\n",
       "2 2019-10-11             53.88               54.28\n",
       "3 2019-10-10             52.69               52.68\n",
       "4 2019-10-09             52.57               53.03"
      ]
     },
     "execution_count": 10,
     "metadata": {},
     "output_type": "execute_result"
    }
   ],
   "source": [
    "#format crudeoil_avg_price to two decimal place\n",
    "crudeoil_transformed=crudeoil_transformed.round({'crudeoil_avg_price': 2})\n",
    "crudeoil_transformed.head()"
   ]
  },
  {
   "cell_type": "code",
   "execution_count": 16,
   "metadata": {},
   "outputs": [],
   "source": [
    "crudeoil_transformed.to_csv('../../output/crude_oil_transformed.csv', index=False)"
   ]
  }
 ],
 "metadata": {
  "kernelspec": {
   "display_name": "Python 3",
   "language": "python",
   "name": "python3"
  },
  "language_info": {
   "codemirror_mode": {
    "name": "ipython",
    "version": 3
   },
   "file_extension": ".py",
   "mimetype": "text/x-python",
   "name": "python",
   "nbconvert_exporter": "python",
   "pygments_lexer": "ipython3",
   "version": "3.7.4"
  }
 },
 "nbformat": 4,
 "nbformat_minor": 2
}
