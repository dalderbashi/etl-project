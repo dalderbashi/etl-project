{
 "cells": [
  {
   "cell_type": "markdown",
   "metadata": {},
   "source": [
    "## Load and Transform Soybean Data\n"
   ]
  },
  {
   "cell_type": "code",
   "execution_count": 1,
   "metadata": {},
   "outputs": [],
   "source": [
    "import pandas as pd\n",
    "from sqlalchemy import create_engine\n",
    "import datetime as dt"
   ]
  },
  {
   "cell_type": "markdown",
   "metadata": {},
   "source": [
    "### Extract CSVs into DataFrames"
   ]
  },
  {
   "cell_type": "code",
   "execution_count": 2,
   "metadata": {},
   "outputs": [
    {
     "data": {
      "text/html": [
       "<div>\n",
       "<style scoped>\n",
       "    .dataframe tbody tr th:only-of-type {\n",
       "        vertical-align: middle;\n",
       "    }\n",
       "\n",
       "    .dataframe tbody tr th {\n",
       "        vertical-align: top;\n",
       "    }\n",
       "\n",
       "    .dataframe thead th {\n",
       "        text-align: right;\n",
       "    }\n",
       "</style>\n",
       "<table border=\"1\" class=\"dataframe\">\n",
       "  <thead>\n",
       "    <tr style=\"text-align: right;\">\n",
       "      <th></th>\n",
       "      <th>Date</th>\n",
       "      <th>Price</th>\n",
       "      <th>Open</th>\n",
       "      <th>High</th>\n",
       "      <th>Low</th>\n",
       "      <th>Vol.</th>\n",
       "      <th>Change %</th>\n",
       "    </tr>\n",
       "  </thead>\n",
       "  <tbody>\n",
       "    <tr>\n",
       "      <th>0</th>\n",
       "      <td>14-Oct-19</td>\n",
       "      <td>939.75</td>\n",
       "      <td>941.62</td>\n",
       "      <td>945.38</td>\n",
       "      <td>930.62</td>\n",
       "      <td>-</td>\n",
       "      <td>0.57%</td>\n",
       "    </tr>\n",
       "    <tr>\n",
       "      <th>1</th>\n",
       "      <td>11-Oct-19</td>\n",
       "      <td>934.38</td>\n",
       "      <td>924.12</td>\n",
       "      <td>939.12</td>\n",
       "      <td>923.62</td>\n",
       "      <td>-</td>\n",
       "      <td>1.29%</td>\n",
       "    </tr>\n",
       "    <tr>\n",
       "      <th>2</th>\n",
       "      <td>10-Oct-19</td>\n",
       "      <td>922.50</td>\n",
       "      <td>919.38</td>\n",
       "      <td>933.62</td>\n",
       "      <td>918.88</td>\n",
       "      <td>-</td>\n",
       "      <td>0.03%</td>\n",
       "    </tr>\n",
       "    <tr>\n",
       "      <th>3</th>\n",
       "      <td>9-Oct-19</td>\n",
       "      <td>922.25</td>\n",
       "      <td>918.88</td>\n",
       "      <td>931.38</td>\n",
       "      <td>918.50</td>\n",
       "      <td>-</td>\n",
       "      <td>0.33%</td>\n",
       "    </tr>\n",
       "    <tr>\n",
       "      <th>4</th>\n",
       "      <td>8-Oct-19</td>\n",
       "      <td>919.25</td>\n",
       "      <td>915.62</td>\n",
       "      <td>923.62</td>\n",
       "      <td>910.50</td>\n",
       "      <td>-</td>\n",
       "      <td>0.38%</td>\n",
       "    </tr>\n",
       "  </tbody>\n",
       "</table>\n",
       "</div>"
      ],
      "text/plain": [
       "        Date   Price    Open    High     Low Vol. Change %\n",
       "0  14-Oct-19  939.75  941.62  945.38  930.62    -    0.57%\n",
       "1  11-Oct-19  934.38  924.12  939.12  923.62    -    1.29%\n",
       "2  10-Oct-19  922.50  919.38  933.62  918.88    -    0.03%\n",
       "3   9-Oct-19  922.25  918.88  931.38  918.50    -    0.33%\n",
       "4   8-Oct-19  919.25  915.62  923.62  910.50    -    0.38%"
      ]
     },
     "execution_count": 2,
     "metadata": {},
     "output_type": "execute_result"
    }
   ],
   "source": [
    "soybean_file = \"./US Soybeans Futures Historical Data.csv\"\n",
    "#convert csv to data frame and convert column values to float\n",
    "soybean_df = pd.read_csv(soybean_file, thousands=',', decimal='.')\n",
    "soybean_df.head()\n"
   ]
  },
  {
   "cell_type": "markdown",
   "metadata": {},
   "source": [
    "### Transform Soybean DataFrame"
   ]
  },
  {
   "cell_type": "code",
   "execution_count": 3,
   "metadata": {},
   "outputs": [],
   "source": [
    "#convert date from object to a date \n",
    "soybean_df['Date'] =  pd.to_datetime(soybean_df['Date'],format='%d-%b-%y')\n"
   ]
  },
  {
   "cell_type": "code",
   "execution_count": 4,
   "metadata": {},
   "outputs": [
    {
     "data": {
      "text/plain": [
       "Date        datetime64[ns]\n",
       "Price              float64\n",
       "Open               float64\n",
       "High               float64\n",
       "Low                float64\n",
       "Vol.                object\n",
       "Change %            object\n",
       "dtype: object"
      ]
     },
     "execution_count": 4,
     "metadata": {},
     "output_type": "execute_result"
    }
   ],
   "source": [
    "soybean_df.dtypes"
   ]
  },
  {
   "cell_type": "code",
   "execution_count": 5,
   "metadata": {},
   "outputs": [
    {
     "data": {
      "text/html": [
       "<div>\n",
       "<style scoped>\n",
       "    .dataframe tbody tr th:only-of-type {\n",
       "        vertical-align: middle;\n",
       "    }\n",
       "\n",
       "    .dataframe tbody tr th {\n",
       "        vertical-align: top;\n",
       "    }\n",
       "\n",
       "    .dataframe thead th {\n",
       "        text-align: right;\n",
       "    }\n",
       "</style>\n",
       "<table border=\"1\" class=\"dataframe\">\n",
       "  <thead>\n",
       "    <tr style=\"text-align: right;\">\n",
       "      <th></th>\n",
       "      <th>Date</th>\n",
       "      <th>Price</th>\n",
       "      <th>Open</th>\n",
       "      <th>High</th>\n",
       "      <th>Low</th>\n",
       "      <th>Vol.</th>\n",
       "      <th>Change %</th>\n",
       "      <th>soybean_avg_price</th>\n",
       "    </tr>\n",
       "  </thead>\n",
       "  <tbody>\n",
       "    <tr>\n",
       "      <th>0</th>\n",
       "      <td>2019-10-14</td>\n",
       "      <td>939.75</td>\n",
       "      <td>941.62</td>\n",
       "      <td>945.38</td>\n",
       "      <td>930.62</td>\n",
       "      <td>-</td>\n",
       "      <td>0.57%</td>\n",
       "      <td>938.00</td>\n",
       "    </tr>\n",
       "    <tr>\n",
       "      <th>1</th>\n",
       "      <td>2019-10-11</td>\n",
       "      <td>934.38</td>\n",
       "      <td>924.12</td>\n",
       "      <td>939.12</td>\n",
       "      <td>923.62</td>\n",
       "      <td>-</td>\n",
       "      <td>1.29%</td>\n",
       "      <td>931.37</td>\n",
       "    </tr>\n",
       "    <tr>\n",
       "      <th>2</th>\n",
       "      <td>2019-10-10</td>\n",
       "      <td>922.50</td>\n",
       "      <td>919.38</td>\n",
       "      <td>933.62</td>\n",
       "      <td>918.88</td>\n",
       "      <td>-</td>\n",
       "      <td>0.03%</td>\n",
       "      <td>926.25</td>\n",
       "    </tr>\n",
       "    <tr>\n",
       "      <th>3</th>\n",
       "      <td>2019-10-09</td>\n",
       "      <td>922.25</td>\n",
       "      <td>918.88</td>\n",
       "      <td>931.38</td>\n",
       "      <td>918.50</td>\n",
       "      <td>-</td>\n",
       "      <td>0.33%</td>\n",
       "      <td>924.94</td>\n",
       "    </tr>\n",
       "    <tr>\n",
       "      <th>4</th>\n",
       "      <td>2019-10-08</td>\n",
       "      <td>919.25</td>\n",
       "      <td>915.62</td>\n",
       "      <td>923.62</td>\n",
       "      <td>910.50</td>\n",
       "      <td>-</td>\n",
       "      <td>0.38%</td>\n",
       "      <td>917.06</td>\n",
       "    </tr>\n",
       "  </tbody>\n",
       "</table>\n",
       "</div>"
      ],
      "text/plain": [
       "        Date   Price    Open    High     Low Vol. Change %  soybean_avg_price\n",
       "0 2019-10-14  939.75  941.62  945.38  930.62    -    0.57%             938.00\n",
       "1 2019-10-11  934.38  924.12  939.12  923.62    -    1.29%             931.37\n",
       "2 2019-10-10  922.50  919.38  933.62  918.88    -    0.03%             926.25\n",
       "3 2019-10-09  922.25  918.88  931.38  918.50    -    0.33%             924.94\n",
       "4 2019-10-08  919.25  915.62  923.62  910.50    -    0.38%             917.06"
      ]
     },
     "execution_count": 5,
     "metadata": {},
     "output_type": "execute_result"
    }
   ],
   "source": [
    "#calculate average soybean price and add it as a new column  sing high and low values \n",
    "soybean_df[\"soybean_avg_price\"] = soybean_df[[\"High\", \"Low\"]].mean(axis=1)\n",
    "soybean_df.head()\n",
    "\n"
   ]
  },
  {
   "cell_type": "code",
   "execution_count": 6,
   "metadata": {},
   "outputs": [
    {
     "data": {
      "text/plain": [
       "Date                  2638\n",
       "Soybean_Open_Price    2638\n",
       "Soybean_Avg_Price     2638\n",
       "dtype: int64"
      ]
     },
     "execution_count": 6,
     "metadata": {},
     "output_type": "execute_result"
    }
   ],
   "source": [
    "# Create a filtered dataframe from specific columns\n",
    "soybean_cols = [\"Date\", \"Open\", \"soybean_avg_price\"]\n",
    "soybean_transformed= soybean_df[soybean_cols].copy()\n",
    "\n",
    "# Rename the column headers\n",
    "soybean_transformed = soybean_transformed.rename(columns={\"Open\": \"Soybean_Open_Price\",\n",
    "                                                          \"soybean_avg_price\": \"Soybean_Avg_Price\"\n",
    "                                                       })\n",
    "soybean_transformed.count()"
   ]
  },
  {
   "cell_type": "code",
   "execution_count": 13,
   "metadata": {},
   "outputs": [
    {
     "data": {
      "text/html": [
       "<div>\n",
       "<style scoped>\n",
       "    .dataframe tbody tr th:only-of-type {\n",
       "        vertical-align: middle;\n",
       "    }\n",
       "\n",
       "    .dataframe tbody tr th {\n",
       "        vertical-align: top;\n",
       "    }\n",
       "\n",
       "    .dataframe thead th {\n",
       "        text-align: right;\n",
       "    }\n",
       "</style>\n",
       "<table border=\"1\" class=\"dataframe\">\n",
       "  <thead>\n",
       "    <tr style=\"text-align: right;\">\n",
       "      <th></th>\n",
       "      <th>Date</th>\n",
       "      <th>Soybean_Open_Price</th>\n",
       "      <th>Soybean_Avg_Price</th>\n",
       "    </tr>\n",
       "  </thead>\n",
       "  <tbody>\n",
       "    <tr>\n",
       "      <th>0</th>\n",
       "      <td>2019-10-14</td>\n",
       "      <td>941.62</td>\n",
       "      <td>938.00</td>\n",
       "    </tr>\n",
       "    <tr>\n",
       "      <th>1</th>\n",
       "      <td>2019-10-11</td>\n",
       "      <td>924.12</td>\n",
       "      <td>931.37</td>\n",
       "    </tr>\n",
       "    <tr>\n",
       "      <th>2</th>\n",
       "      <td>2019-10-10</td>\n",
       "      <td>919.38</td>\n",
       "      <td>926.25</td>\n",
       "    </tr>\n",
       "    <tr>\n",
       "      <th>3</th>\n",
       "      <td>2019-10-09</td>\n",
       "      <td>918.88</td>\n",
       "      <td>924.94</td>\n",
       "    </tr>\n",
       "    <tr>\n",
       "      <th>4</th>\n",
       "      <td>2019-10-08</td>\n",
       "      <td>915.62</td>\n",
       "      <td>917.06</td>\n",
       "    </tr>\n",
       "  </tbody>\n",
       "</table>\n",
       "</div>"
      ],
      "text/plain": [
       "        Date  Soybean_Open_Price  Soybean_Avg_Price\n",
       "0 2019-10-14              941.62             938.00\n",
       "1 2019-10-11              924.12             931.37\n",
       "2 2019-10-10              919.38             926.25\n",
       "3 2019-10-09              918.88             924.94\n",
       "4 2019-10-08              915.62             917.06"
      ]
     },
     "execution_count": 13,
     "metadata": {},
     "output_type": "execute_result"
    }
   ],
   "source": [
    "# Clean the data by dropping duplicates and setting the index\n",
    "#soybean_transformed.drop_duplicates(\"Date\", inplace=True)\n",
    "#premise_transformed.set_index(\"id\", inplace=True)\n",
    "soybean_transformed.head()"
   ]
  },
  {
   "cell_type": "code",
   "execution_count": 20,
   "metadata": {},
   "outputs": [],
   "source": [
    "#export to csv\n",
    "\n",
    "soybean_transformed.to_csv(\"../../output/soybean_transformed.csv\",index=False)"
   ]
  }
 ],
 "metadata": {
  "kernelspec": {
   "display_name": "Python 3",
   "language": "python",
   "name": "python3"
  },
  "language_info": {
   "codemirror_mode": {
    "name": "ipython",
    "version": 3
   },
   "file_extension": ".py",
   "mimetype": "text/x-python",
   "name": "python",
   "nbconvert_exporter": "python",
   "pygments_lexer": "ipython3",
   "version": "3.7.4"
  }
 },
 "nbformat": 4,
 "nbformat_minor": 2
}
